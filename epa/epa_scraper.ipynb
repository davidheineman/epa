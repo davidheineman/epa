{
 "cells": [
  {
   "cell_type": "code",
   "execution_count": 1,
   "metadata": {},
   "outputs": [],
   "source": [
    "import requests, json\n",
    "from bs4 import BeautifulSoup\n",
    "from datetime import datetime\n",
    "\n",
    "def scrape_website(url):\n",
    "    response = requests.get(url)\n",
    "    \n",
    "    if response.status_code == 200:\n",
    "        soup = BeautifulSoup(response.content, 'html.parser')\n",
    "        return soup\n",
    "    else:\n",
    "        raise RuntimeError(f'Scraper failed! Recieved: {response}')\n",
    "\n",
    "complaint_id = 108215\n",
    "url = f\"https://cts.gaepd.org/Public/ComplaintDetails/{complaint_id}\"\n",
    "soup = scrape_website(url)"
   ]
  },
  {
   "cell_type": "code",
   "execution_count": 2,
   "metadata": {},
   "outputs": [],
   "source": [
    "COMPLAINT_ID = \"complaint\"\n",
    "LOCATION_STRING = \"Location of Complaint\"\n",
    "RECV_STRING = \"Date Received\"\n",
    "SOURCE_NAME_STRING = \"Source Name\"\n",
    "SOURCE_ADDRESS_STRING = \"Source Address\"\n",
    "\n",
    "def get_complaint(soup):\n",
    "    elem = soup.find(id=COMPLAINT_ID)\n",
    "    if elem:\n",
    "        elem = elem.find_next_sibling('p')\n",
    "        if elem: return elem.get_text()\n",
    "    return None\n",
    "    \n",
    "def get_tabe_element(soup, string):\n",
    "    elem = soup.find('th', string=string)    \n",
    "    if elem:\n",
    "        elem = elem.find_next('td')\n",
    "        if elem: return elem.get_text(strip=True)\n",
    "    return None\n",
    "\n",
    "def get_location(soup):\n",
    "    return get_tabe_element(soup, string=LOCATION_STRING)\n",
    "\n",
    "def get_date_received(soup):\n",
    "    date = get_tabe_element(soup, string=RECV_STRING)\n",
    "    return datetime.strptime(date, '%B %d, %Y, %I:%M %p').strftime(\"%Y-%m-%d %H:%M:%S\")\n",
    "\n",
    "def get_source_name(soup):\n",
    "    return get_tabe_element(soup, string=SOURCE_NAME_STRING)\n",
    "\n",
    "def get_source_location(soup):\n",
    "    return get_tabe_element(soup, string=SOURCE_ADDRESS_STRING)"
   ]
  },
  {
   "cell_type": "code",
   "execution_count": 3,
   "metadata": {},
   "outputs": [
    {
     "data": {
      "text/plain": [
       "{'complaint': 'Burning for about 3 months since they came in, and they have been 2-3 times day. \\r\\n\\r\\nSmoke has been causing problems for most neighbors. \\r\\n\\r\\nComplainant says that they are burning work materials. ',\n",
       " 'location': '2554 Hightower Ct Atlanta\\r\\n\\r\\nOnly house made of Siding/ off white dark trim with deep brown and dark grey tones. Torn Blinds- makeshift wire going through sticks of wire across the front of the house. \\r\\nTwo white Vans with company names and trailer that is always in front yard. Work tools/material under porch. There is another vehicle described as the Nissan Sentra.',\n",
       " 'date_received': datetime.datetime(2024, 3, 18, 12, 0),\n",
       " 'source_name': 'Comfort Kings Heating and Air',\n",
       " 'source_location': 'Atlanta, Georgia'}"
      ]
     },
     "execution_count": 3,
     "metadata": {},
     "output_type": "execute_result"
    }
   ],
   "source": [
    "entry = {}\n",
    "\n",
    "entry['complaint'] = get_complaint(soup)\n",
    "entry['location'] = get_location(soup)\n",
    "entry['date_received'] = get_date_received(soup)\n",
    "entry['source_name'] = get_source_name(soup)\n",
    "entry['source_location'] = get_source_location(soup)\n",
    "\n",
    "entry"
   ]
  },
  {
   "cell_type": "code",
   "execution_count": 4,
   "metadata": {},
   "outputs": [
    {
     "name": "stdout",
     "output_type": "stream",
     "text": [
      "Looking for complaints on page 1...\n",
      "Looking for complaints on page 2...\n",
      "Looking for complaints on page 3...\n",
      "Looking for complaints on page 4...\n",
      "Looking for complaints on page 5...\n",
      "Looking for complaints on page 6...\n"
     ]
    }
   ],
   "source": [
    "def get_href_suffixes(soup, prefix):\n",
    "    return [l['href'].replace(prefix, '') for l in soup.find_all('a') if l.get('href', '').startswith(prefix)]\n",
    "\n",
    "\n",
    "def get_complaint_ids(date_from, date_to):\n",
    "    complaint_ids, n = [], 1\n",
    "    while True:\n",
    "        print(f'Looking for complaints on page {n}...')\n",
    "        url = f'https://cts.gaepd.org/Public?submit=Page&page={n}&sort=IdDesc&DateFrom={date_from}&DateTo={date_to}&TypeId=800670b6-2ae3-49e0-afef-37156006bf1f#search-results'\n",
    "        soup = scrape_website(url)\n",
    "        ids = get_href_suffixes(soup, '/Public/ComplaintDetails/')\n",
    "        if len(ids) > 0:\n",
    "            complaint_ids += ids\n",
    "            n += 1\n",
    "        else:\n",
    "            break\n",
    "    return complaint_ids\n",
    "\n",
    "\n",
    "complaint_ids = get_complaint_ids('1-1-2024', '4-1-2024')"
   ]
  },
  {
   "cell_type": "code",
   "execution_count": 5,
   "metadata": {},
   "outputs": [
    {
     "name": "stdout",
     "output_type": "stream",
     "text": [
      "Scraping complaint id 108308...\n",
      "Scraping complaint id 108293...\n",
      "Scraping complaint id 108255...\n",
      "Scraping complaint id 108243...\n",
      "Scraping complaint id 108241...\n",
      "Scraping complaint id 108215...\n",
      "Scraping complaint id 108205...\n",
      "Scraping complaint id 108197...\n",
      "Scraping complaint id 108192...\n",
      "Scraping complaint id 108127...\n",
      "Scraping complaint id 108126...\n",
      "Scraping complaint id 108104...\n",
      "Scraping complaint id 108076...\n",
      "Scraping complaint id 108039...\n",
      "Scraping complaint id 108014...\n",
      "Scraping complaint id 107993...\n",
      "Scraping complaint id 107965...\n",
      "Scraping complaint id 107949...\n",
      "Scraping complaint id 107940...\n",
      "Scraping complaint id 107931...\n",
      "Scraping complaint id 107930...\n",
      "Scraping complaint id 107925...\n",
      "Scraping complaint id 107920...\n",
      "Scraping complaint id 107916...\n",
      "Scraping complaint id 107906...\n",
      "Scraping complaint id 107905...\n",
      "Scraping complaint id 107883...\n",
      "Scraping complaint id 107881...\n",
      "Scraping complaint id 107877...\n",
      "Scraping complaint id 107874...\n",
      "Scraping complaint id 107870...\n",
      "Scraping complaint id 107863...\n",
      "Scraping complaint id 107820...\n",
      "Scraping complaint id 107804...\n",
      "Scraping complaint id 107802...\n",
      "Scraping complaint id 107799...\n",
      "Scraping complaint id 107796...\n",
      "Scraping complaint id 107789...\n",
      "Scraping complaint id 107759...\n",
      "Scraping complaint id 107757...\n",
      "Scraping complaint id 107746...\n",
      "Scraping complaint id 107739...\n",
      "Scraping complaint id 107728...\n",
      "Scraping complaint id 107725...\n",
      "Scraping complaint id 107722...\n",
      "Scraping complaint id 107709...\n",
      "Scraping complaint id 107702...\n",
      "Scraping complaint id 107694...\n",
      "Scraping complaint id 107692...\n",
      "Scraping complaint id 107664...\n",
      "Scraping complaint id 107652...\n",
      "Scraping complaint id 107651...\n",
      "Scraping complaint id 107646...\n",
      "Scraping complaint id 107640...\n",
      "Scraping complaint id 107639...\n",
      "Scraping complaint id 107613...\n",
      "Scraping complaint id 107609...\n",
      "Scraping complaint id 107604...\n",
      "Scraping complaint id 107600...\n",
      "Scraping complaint id 107593...\n",
      "Scraping complaint id 107591...\n",
      "Scraping complaint id 107588...\n",
      "Scraping complaint id 107587...\n",
      "Scraping complaint id 107570...\n",
      "Scraping complaint id 107564...\n",
      "Scraping complaint id 107560...\n",
      "Scraping complaint id 107559...\n",
      "Scraping complaint id 107549...\n",
      "Scraping complaint id 107543...\n",
      "Scraping complaint id 107523...\n",
      "Scraping complaint id 107517...\n",
      "Scraping complaint id 107514...\n",
      "Scraping complaint id 107487...\n",
      "Scraping complaint id 107472...\n",
      "Scraping complaint id 107453...\n",
      "Scraping complaint id 107450...\n",
      "Scraping complaint id 107445...\n",
      "Scraping complaint id 107444...\n",
      "Scraping complaint id 107442...\n",
      "Scraping complaint id 107438...\n",
      "Scraping complaint id 107433...\n",
      "Scraping complaint id 107431...\n",
      "Scraping complaint id 107428...\n",
      "Scraping complaint id 107426...\n",
      "Scraping complaint id 107421...\n",
      "Scraping complaint id 107408...\n",
      "Scraping complaint id 107407...\n",
      "Scraping complaint id 107406...\n",
      "Scraping complaint id 107402...\n",
      "Scraping complaint id 107399...\n",
      "Scraping complaint id 107382...\n",
      "Scraping complaint id 107373...\n",
      "Scraping complaint id 107358...\n",
      "Scraping complaint id 107352...\n",
      "Scraping complaint id 107274...\n",
      "Scraping complaint id 107257...\n",
      "Scraping complaint id 107256...\n",
      "Scraping complaint id 107254...\n",
      "Scraping complaint id 107253...\n",
      "Scraping complaint id 107242...\n",
      "Scraping complaint id 107234...\n",
      "Scraping complaint id 107223...\n",
      "Scraping complaint id 107213...\n",
      "Scraping complaint id 107212...\n"
     ]
    }
   ],
   "source": [
    "def scrape_complaint(complaint_id):\n",
    "    url = f\"https://cts.gaepd.org/Public/ComplaintDetails/{complaint_id}\"\n",
    "    soup = scrape_website(url)\n",
    "\n",
    "    entry = {}\n",
    "    entry['_id'] = complaint_id\n",
    "    entry['complaint'] = get_complaint(soup)\n",
    "    entry['location'] = get_location(soup)\n",
    "    entry['date_received'] = get_date_received(soup)\n",
    "    entry['source_name'] = get_source_name(soup)\n",
    "    entry['source_location'] = get_source_location(soup)\n",
    "    return entry\n",
    "\n",
    "\n",
    "data = []\n",
    "for _id in complaint_ids:\n",
    "    print(f'Scraping complaint id {_id}...')\n",
    "    data += [scrape_complaint(_id)]"
   ]
  },
  {
   "cell_type": "code",
   "execution_count": 10,
   "metadata": {},
   "outputs": [],
   "source": [
    "import json\n",
    "\n",
    "OUTPUT_PATH = 'complaints.json'\n",
    "\n",
    "with open(OUTPUT_PATH, 'w') as f:\n",
    "    json.dump(data, f, indent=4)"
   ]
  },
  {
   "cell_type": "code",
   "execution_count": 2,
   "metadata": {},
   "outputs": [],
   "source": [
    "import json\n",
    "\n",
    "OUTPUT_PATH = 'complaints.json'\n",
    "\n",
    "with open(OUTPUT_PATH, 'r', encoding='utf-8') as f:\n",
    "    complaints = json.load(f)"
   ]
  },
  {
   "cell_type": "code",
   "execution_count": 18,
   "metadata": {},
   "outputs": [
    {
     "data": {
      "image/png": "[encoded data removed]",
      "text/plain": [
       "<Figure size 640x480 with 1 Axes>"
      ]
     },
     "metadata": {},
     "output_type": "display_data"
    }
   ],
   "source": [
    "import matplotlib.pyplot as plt\n",
    "\n",
    "strings = [len(c['complaint']) for c in complaints]\n",
    "\n",
    "plt.hist(strings, bins=1000, align='left', rwidth=0.8)\n",
    "plt.xlabel('String Length')\n",
    "plt.ylabel('Frequency')\n",
    "plt.title('Distribution of Complaint Lengths')\n",
    "plt.xlim(-50, 1250)\n",
    "plt.grid(axis='y', alpha=0.75)\n",
    "\n",
    "plt.show()"
   ]
  },
  {
   "cell_type": "code",
   "execution_count": 3,
   "metadata": {},
   "outputs": [
    {
     "data": {
      "text/plain": [
       "2573"
      ]
     },
     "execution_count": 3,
     "metadata": {},
     "output_type": "execute_result"
    }
   ],
   "source": [
    "len(complaints)"
   ]
  },
  {
   "cell_type": "code",
   "execution_count": 4,
   "metadata": {},
   "outputs": [
    {
     "name": "stdout",
     "output_type": "stream",
     "text": [
      "836\n"
     ]
    }
   ],
   "source": [
    "keywords = ['burn', 'Not entered', 'caller', 'email@removed.invalid']\n",
    "filtered = [c for c in complaints if not any(k.lower() in c['complaint'].lower() for k in keywords)]\n",
    "# filtered = list(set([c['complaint'] for c in filtered]))\n",
    "print(len(filtered))"
   ]
  },
  {
   "cell_type": "code",
   "execution_count": null,
   "metadata": {},
   "outputs": [],
   "source": [
    "\"\"\"\n",
    "Idea! Perform classification tasks in 5 categories corresponding to \"features\" of the complaint.\n",
    "\n",
    "Then, the probability of deploying the van is a function of each category classification\n",
    "\n",
    "Finally, this can be packaged and deployed on a bootstrap interface\n",
    "\"\"\""
   ]
  },
  {
   "cell_type": "code",
   "execution_count": 34,
   "metadata": {},
   "outputs": [],
   "source": [
    "CATEGORIES = {\n",
    "    'pollutor': \"- Look for mentions of a pollutor. This contains mentions of 'plant', 'factory', 'air quality'\",\n",
    "    'odor': \"- Look for mentions of smells or odors of a pollutant. This contains mentions of 'smell', 'odor'\",\n",
    "    'aqi': \"- Look for specific mentions of air and inhalation. This contains mentions of 'fumes', 'ventilation'\",\n",
    "    'source': \"- Look for descriptions of types or identifications of pollutors. This contains mentions of a SOURCE or SPECIFIC TYPE of a pollutant (such as 'benzene')\",\n",
    "    'health': \"- Look for complaints of an individual's physical health. This contains physical problems, such as a patient 'hurt' or 'burning' from pollution\"\n",
    "}\n",
    "\n",
    "PROMPT = \"\"\"\n",
    "Given a categorization, return whether the COMPLAINT mentions the CATEGORY on a scale of 1-3.\n",
    "\n",
    "SCALE:\n",
    "- 1: No mention of the problem, this should be ignored\n",
    "- 2: Vaguely mentions the problem, but it should be followed up with a message\n",
    "- 3: This problem is fully described and looked into\n",
    "\n",
    "CATEGORY:\n",
    "{category}\n",
    "\n",
    "COMPLAINT:\n",
    "{complaint}\n",
    "\n",
    "Only respond with a number (1 or 2 or 3)\n",
    "\n",
    "Categorization:\"\"\""
   ]
  },
  {
   "cell_type": "code",
   "execution_count": 35,
   "metadata": {},
   "outputs": [],
   "source": [
    "from tqdm import tqdm\n",
    "from openai import OpenAI\n",
    "\n",
    "with open('/Users/dhei/.OPENAI-SECRET', 'r') as f: \n",
    "    api_key = f.read().strip()\n",
    "\n",
    "client = OpenAI(api_key=api_key)\n",
    "\n",
    "max_tokens = 1\n",
    "\n",
    "def gpt_generate(prompt):\n",
    "  out = client.chat.completions.create(\n",
    "      model=\"gpt-3.5-turbo-0125\",\n",
    "      messages=[{\"role\": \"user\", \"content\": prompt}],\n",
    "      top_p = 1,\n",
    "      temperature = 0,\n",
    "      max_tokens = max_tokens\n",
    "  )\n",
    "  return out.choices[0].message.content"
   ]
  },
  {
   "cell_type": "code",
   "execution_count": 36,
   "metadata": {},
   "outputs": [],
   "source": [
    "complaint = complaints[0]['complaint']"
   ]
  },
  {
   "cell_type": "code",
   "execution_count": 37,
   "metadata": {},
   "outputs": [],
   "source": [
    "answers = {}\n",
    "for cat in list(CATEGORIES.keys()):\n",
    "    answers[cat] = gpt_generate(PROMPT.format(category=CATEGORIES[cat], complaint=complaint))"
   ]
  },
  {
   "cell_type": "code",
   "execution_count": 38,
   "metadata": {},
   "outputs": [
    {
     "name": "stdout",
     "output_type": "stream",
     "text": [
      "{'pollutor': '3', 'odor': '3', 'aqi': '3', 'source': '3', 'health': '3'}\n",
      "My neighbors  burn their trash. A few times a week i get to walk outside and choke on toxic chemicals in the air. I cannot leave my windows open. I do not even like going outside to work on my garden because  it always smells of burning plastic. What are my options to make them stop.   I can be contacted through email please and thank you. \n"
     ]
    }
   ],
   "source": [
    "print(answers)\n",
    "print(complaint)"
   ]
  }
 ],
 "metadata": {
  "kernelspec": {
   "display_name": "Python 3",
   "language": "python",
   "name": "python3"
  },
  "language_info": {
   "codemirror_mode": {
    "name": "ipython",
    "version": 3
   },
   "file_extension": ".py",
   "mimetype": "text/x-python",
   "name": "python",
   "nbconvert_exporter": "python",
   "pygments_lexer": "ipython3",
   "version": "3.11.8"
  }
 },
 "nbformat": 4,
 "nbformat_minor": 2
}
